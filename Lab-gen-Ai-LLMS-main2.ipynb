{
 "cells": [
  {
   "cell_type": "markdown",
   "metadata": {},
   "source": [
    "# OpenAI Assistant"
   ]
  },
  {
   "cell_type": "markdown",
   "metadata": {},
   "source": [
    "## Exercise 1"
   ]
  },
  {
   "cell_type": "markdown",
   "metadata": {},
   "source": [
    "Create an assistant to answer a topic of your choosing:\n",
    " - Upload a file of your interest\n",
    " - Add Instructions to the prompt\n",
    " - Use the assistant in Playground mode\n",
    "\n",
    " https://platform.openai.com/playground/assistants"
   ]
  },
  {
   "cell_type": "code",
   "execution_count": null,
   "metadata": {},
   "outputs": [],
   "source": [
    "https://platform.openai.com/playground/assistants?thread=thread_clkqnhfdceJoxXo9zQTMZGq0"
   ]
  },
  {
   "cell_type": "markdown",
   "metadata": {},
   "source": [
    "## Exercise 2"
   ]
  },
  {
   "cell_type": "markdown",
   "metadata": {},
   "source": [
    "Talk to your assistant via the API\n",
    "\n",
    "https://platform.openai.com/docs/assistants/overview"
   ]
  },
  {
   "cell_type": "code",
   "execution_count": null,
   "metadata": {},
   "outputs": [],
   "source": [
    "import openai\n",
    "\n",
    "# Set up your OpenAI API key\n",
    "openai.api_key = \"FgT3BlbkL34zhz0kHG\"\n",
    "\n",
    "# Create an assistant\n",
    "assistant = openai.Assistant.create(\n",
    "    name=\"Python Assistant\",\n",
    "    instructions=\"You are an AI assistant specialized in answering questions about the Python programming language. Your knowledge comes from the files provided to you. If you cannot find a relevant answer in the files, politely inform the user that you do not have enough information to answer their question.\",\n",
    "    model=\"gpt-3.5-turbo\",\n",
    "    tools=[\n",
    "        {\n",
    "            \"type\": \"file_search\",\n",
    "            \"files\": [\"python_tutorial.pdf\", \"python_docs.pdf\"]\n",
    "        }\n",
    "    ]\n",
    ")\n",
    "\n",
    "# Create a thread for the conversation\n",
    "thread = openai.Thread.create(assistant=assistant)\n",
    "\n",
    "# Send a message to the assistant\n",
    "response = openai.Message.create(\n",
    "    thread=thread,\n",
    "    content=\"What is the difference between a list and a tuple in Python?\",\n",
    "    role=\"user\"\n",
    ")\n",
    "\n",
    "# Print the assistant's response\n",
    "print(response.content)"
   ]
  },
  {
   "cell_type": "code",
   "execution_count": null,
   "metadata": {},
   "outputs": [],
   "source": [
    "\n"
   ]
  },
  {
   "cell_type": "markdown",
   "metadata": {},
   "source": [
    "## Exercise 3"
   ]
  },
  {
   "cell_type": "markdown",
   "metadata": {},
   "source": [
    "Create an assistant that will call a weather API, given the user's answer and return the proper answer.\n",
    "\n",
    "See the documentation of the weather API here: https://open-meteo.com/en/docs"
   ]
  },
  {
   "cell_type": "code",
   "execution_count": 1,
   "metadata": {},
   "outputs": [
    {
     "name": "stdout",
     "output_type": "stream",
     "text": [
      "{'latitude': 52.52, 'longitude': 13.419998, 'generationtime_ms': 0.06699562072753906, 'utc_offset_seconds': 0, 'timezone': 'GMT', 'timezone_abbreviation': 'GMT', 'elevation': 38.0, 'hourly_units': {'time': 'iso8601', 'temperature_2m': '°C'}, 'hourly': {'time': ['2024-06-17T00:00', '2024-06-17T01:00', '2024-06-17T02:00', '2024-06-17T03:00', '2024-06-17T04:00', '2024-06-17T05:00', '2024-06-17T06:00', '2024-06-17T07:00', '2024-06-17T08:00', '2024-06-17T09:00', '2024-06-17T10:00', '2024-06-17T11:00', '2024-06-17T12:00', '2024-06-17T13:00', '2024-06-17T14:00', '2024-06-17T15:00', '2024-06-17T16:00', '2024-06-17T17:00', '2024-06-17T18:00', '2024-06-17T19:00', '2024-06-17T20:00', '2024-06-17T21:00', '2024-06-17T22:00', '2024-06-17T23:00', '2024-06-18T00:00', '2024-06-18T01:00', '2024-06-18T02:00', '2024-06-18T03:00', '2024-06-18T04:00', '2024-06-18T05:00', '2024-06-18T06:00', '2024-06-18T07:00', '2024-06-18T08:00', '2024-06-18T09:00', '2024-06-18T10:00', '2024-06-18T11:00', '2024-06-18T12:00', '2024-06-18T13:00', '2024-06-18T14:00', '2024-06-18T15:00', '2024-06-18T16:00', '2024-06-18T17:00', '2024-06-18T18:00', '2024-06-18T19:00', '2024-06-18T20:00', '2024-06-18T21:00', '2024-06-18T22:00', '2024-06-18T23:00', '2024-06-19T00:00', '2024-06-19T01:00', '2024-06-19T02:00', '2024-06-19T03:00', '2024-06-19T04:00', '2024-06-19T05:00', '2024-06-19T06:00', '2024-06-19T07:00', '2024-06-19T08:00', '2024-06-19T09:00', '2024-06-19T10:00', '2024-06-19T11:00', '2024-06-19T12:00', '2024-06-19T13:00', '2024-06-19T14:00', '2024-06-19T15:00', '2024-06-19T16:00', '2024-06-19T17:00', '2024-06-19T18:00', '2024-06-19T19:00', '2024-06-19T20:00', '2024-06-19T21:00', '2024-06-19T22:00', '2024-06-19T23:00', '2024-06-20T00:00', '2024-06-20T01:00', '2024-06-20T02:00', '2024-06-20T03:00', '2024-06-20T04:00', '2024-06-20T05:00', '2024-06-20T06:00', '2024-06-20T07:00', '2024-06-20T08:00', '2024-06-20T09:00', '2024-06-20T10:00', '2024-06-20T11:00', '2024-06-20T12:00', '2024-06-20T13:00', '2024-06-20T14:00', '2024-06-20T15:00', '2024-06-20T16:00', '2024-06-20T17:00', '2024-06-20T18:00', '2024-06-20T19:00', '2024-06-20T20:00', '2024-06-20T21:00', '2024-06-20T22:00', '2024-06-20T23:00', '2024-06-21T00:00', '2024-06-21T01:00', '2024-06-21T02:00', '2024-06-21T03:00', '2024-06-21T04:00', '2024-06-21T05:00', '2024-06-21T06:00', '2024-06-21T07:00', '2024-06-21T08:00', '2024-06-21T09:00', '2024-06-21T10:00', '2024-06-21T11:00', '2024-06-21T12:00', '2024-06-21T13:00', '2024-06-21T14:00', '2024-06-21T15:00', '2024-06-21T16:00', '2024-06-21T17:00', '2024-06-21T18:00', '2024-06-21T19:00', '2024-06-21T20:00', '2024-06-21T21:00', '2024-06-21T22:00', '2024-06-21T23:00', '2024-06-22T00:00', '2024-06-22T01:00', '2024-06-22T02:00', '2024-06-22T03:00', '2024-06-22T04:00', '2024-06-22T05:00', '2024-06-22T06:00', '2024-06-22T07:00', '2024-06-22T08:00', '2024-06-22T09:00', '2024-06-22T10:00', '2024-06-22T11:00', '2024-06-22T12:00', '2024-06-22T13:00', '2024-06-22T14:00', '2024-06-22T15:00', '2024-06-22T16:00', '2024-06-22T17:00', '2024-06-22T18:00', '2024-06-22T19:00', '2024-06-22T20:00', '2024-06-22T21:00', '2024-06-22T22:00', '2024-06-22T23:00', '2024-06-23T00:00', '2024-06-23T01:00', '2024-06-23T02:00', '2024-06-23T03:00', '2024-06-23T04:00', '2024-06-23T05:00', '2024-06-23T06:00', '2024-06-23T07:00', '2024-06-23T08:00', '2024-06-23T09:00', '2024-06-23T10:00', '2024-06-23T11:00', '2024-06-23T12:00', '2024-06-23T13:00', '2024-06-23T14:00', '2024-06-23T15:00', '2024-06-23T16:00', '2024-06-23T17:00', '2024-06-23T18:00', '2024-06-23T19:00', '2024-06-23T20:00', '2024-06-23T21:00', '2024-06-23T22:00', '2024-06-23T23:00'], 'temperature_2m': [16.7, 16.1, 15.4, 15.3, 15.5, 16.6, 18.5, 19.1, 20.1, 21.1, 21.1, 22.3, 23.4, 23.5, 24.1, 22.4, 21.7, 22.3, 21.8, 21.0, 19.3, 18.3, 17.8, 16.9, 16.4, 16.1, 15.9, 15.9, 16.2, 17.1, 18.6, 20.1, 21.3, 22.7, 23.9, 24.6, 25.1, 25.4, 25.8, 26.2, 26.0, 25.5, 23.4, 21.2, 19.1, 18.4, 18.1, 17.7, 17.4, 17.1, 16.8, 17.2, 16.5, 16.7, 16.1, 16.1, 15.4, 15.7, 16.0, 16.3, 16.9, 16.7, 17.9, 17.4, 19.3, 19.2, 18.5, 18.6, 17.6, 16.3, 15.1, 14.0, 13.1, 12.2, 11.4, 10.6, 10.3, 10.9, 12.2, 14.0, 15.9, 17.7, 19.2, 20.5, 21.6, 22.4, 23.0, 23.2, 23.2, 23.0, 22.5, 21.3, 19.9, 18.7, 18.1, 17.8, 17.5, 16.9, 16.3, 16.1, 16.5, 17.3, 18.5, 20.3, 22.4, 24.4, 25.9, 27.3, 28.3, 29.1, 29.5, 29.2, 27.5, 25.2, 23.2, 22.2, 21.7, 21.3, 21.1, 21.1, 20.9, 20.3, 19.5, 18.8, 18.2, 17.7, 17.6, 18.4, 19.7, 20.6, 20.7, 20.5, 20.4, 18.2, 17.0, 16.2, 16.1, 16.3, 16.3, 16.0, 15.6, 15.1, 14.5, 13.9, 13.5, 13.2, 13.1, 13.2, 13.5, 14.0, 14.8, 16.0, 17.4, 18.6, 19.3, 19.8, 20.1, 20.4, 20.5, 20.6, 20.7, 20.8, 20.6, 20.1, 19.3, 18.4, 17.4, 16.4]}}\n"
     ]
    }
   ],
   "source": [
    "import requests\n",
    "\n",
    "def get_weather_forecast(latitude, longitude):\n",
    "    base_url = \"https://api.open-meteo.com/v1/forecast\"\n",
    "    params = {\n",
    "        \"latitude\": latitude,\n",
    "        \"longitude\": longitude,\n",
    "        \"hourly\": \"temperature_2m\"\n",
    "    }\n",
    "    response = requests.get(base_url, params=params)\n",
    "    return response.json()\n",
    "\n",
    "# Example usage:\n",
    "forecast = get_weather_forecast(52.52, 13.41)\n",
    "print(forecast)"
   ]
  },
  {
   "cell_type": "code",
   "execution_count": null,
   "metadata": {},
   "outputs": [],
   "source": [
    "import requests\n",
    "\n",
    "def get_weather_forecast(latitude, longitude):\n",
    "    base_url = \"https://api.open-meteo.com/v1/forecast\"\n",
    "    params = {\n",
    "        \"latitude\": latitude,\n",
    "        \"longitude\": longitude,\n",
    "        \"hourly\": \"temperature_2m\"\n",
    "    }\n",
    "    response = requests.get(base_url, params=params)\n",
    "    return response.json()\n",
    "\n",
    "def weather_assistant():\n",
    "    print(\"Welcome to the Weather Assistant!\")\n",
    "    print(\"I can provide hourly temperature forecasts for any location.\")\n",
    "\n",
    "    while True:\n",
    "        location = input(\"Enter a location (city, country) or 'exit' to quit: \")\n",
    "        if location.lower() == \"exit\":\n",
    "            break\n",
    "\n",
    "        try:\n",
    "            # Get latitude and longitude from user input\n",
    "            geocode_url = \"https://nominatim.openstreetmap.org/search\"\n",
    "            geocode_params = {\"q\": location, \"format\": \"json\"}\n",
    "            geocode_response = requests.get(geocode_url, params=geocode_params).json()\n",
    "\n",
    "            if not geocode_response:\n",
    "                print(\"Sorry, I couldn't find that location. Please try again.\")\n",
    "                continue\n",
    "\n",
    "            latitude = float(geocode_response[0][\"lat\"])\n",
    "            longitude = float(geocode_response[0][\"lon\"])\n",
    "\n",
    "            # Call the Open-Meteo API to get the weather forecast\n",
    "            forecast = get_weather_forecast(latitude, longitude)\n",
    "\n",
    "            # Print the hourly temperature forecast\n",
    "            print(f\"\\nHourly temperature forecast for {location}:\")\n",
    "            for time, temp in zip(forecast[\"hourly\"][\"time\"], forecast[\"hourly\"][\"temperature_2m\"]):\n",
    "                print(f\"{time}: {temp}°C\")\n",
    "\n",
    "        except Exception as e:\n",
    "            print(f\"An error occurred: {e}\")\n",
    "\n",
    "if __name__ == \"__main__\":\n",
    "    weather_assistant()"
   ]
  },
  {
   "cell_type": "markdown",
   "metadata": {},
   "source": [
    "### If you want to, there is a hint here:"
   ]
  },
  {
   "cell_type": "markdown",
   "metadata": {},
   "source": [
    "OpenAI Chatbots / Assistants have a way to respond in json format. \n",
    "\n",
    "Explore the function calling functionality"
   ]
  }
 ],
 "metadata": {
  "kernelspec": {
   "display_name": "Python 3 (ipykernel)",
   "language": "python",
   "name": "python3"
  },
  "language_info": {
   "codemirror_mode": {
    "name": "ipython",
    "version": 3
   },
   "file_extension": ".py",
   "mimetype": "text/x-python",
   "name": "python",
   "nbconvert_exporter": "python",
   "pygments_lexer": "ipython3",
   "version": "3.11.8"
  }
 },
 "nbformat": 4,
 "nbformat_minor": 2
}
